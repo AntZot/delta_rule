{
 "cells": [
  {
   "cell_type": "code",
   "execution_count": 2,
   "metadata": {},
   "outputs": [],
   "source": [
    "import numpy as np\n",
    "from sklearn.metrics import accuracy_score\n",
    "import matplotlib.pyplot as plt"
   ]
  },
  {
   "cell_type": "markdown",
   "metadata": {},
   "source": [
    "класс нейронки"
   ]
  },
  {
   "cell_type": "code",
   "execution_count": 3,
   "metadata": {},
   "outputs": [],
   "source": [
    "class Hebb:\n",
    "    def __init__(self, w, b, rate) -> None:\n",
    "        self.w = w \n",
    "        self.b = b\n",
    "        self.rate = rate\n",
    "\n",
    "    def feed(self,inpt,nulls=False):\n",
    "        result = inpt @ self.w - self.b\n",
    "        result[result > 0] = 1\n",
    "        result[result <= 0] = -1\n",
    "        if nulls:\n",
    "           result[result == -1] = 0 \n",
    "        return result\n",
    "    \n",
    "    def delta(self,inpt,outpt):\n",
    "        fd = self.feed(inpt)\n",
    "        self.w = self.w + (inpt.T @ (outpt - fd)) * self.rate\n",
    "        for i in outpt:\n",
    "            self.b = self.b - i\n"
   ]
  },
  {
   "cell_type": "markdown",
   "metadata": {},
   "source": [
    "### ------------------ Вариант из методички -----------------------"
   ]
  },
  {
   "cell_type": "code",
   "execution_count": 159,
   "metadata": {},
   "outputs": [],
   "source": [
    "X = np.array([[-1,-1,],[1,-1],[-1,1],[1,1]])\n",
    "Y = np.array([-1,-1,-1,1])\n",
    "W = np.zeros(2)\n",
    "hb = Hebb(W,0,1)\n",
    "\n",
    "for x in range(3):\n",
    "    hb.delta(X,Y)"
   ]
  },
  {
   "cell_type": "code",
   "execution_count": 160,
   "metadata": {},
   "outputs": [
    {
     "data": {
      "text/plain": [
       "array([-1., -1., -1., -1.])"
      ]
     },
     "execution_count": 160,
     "metadata": {},
     "output_type": "execute_result"
    }
   ],
   "source": [
    "hb.feed([[-1,-1,],[1,-1],[-1,1],[1,1]])"
   ]
  },
  {
   "cell_type": "markdown",
   "metadata": {},
   "source": [
    "### ------------------------ Конец варианта из методички ----------------------"
   ]
  },
  {
   "cell_type": "markdown",
   "metadata": {},
   "source": [
    "### Циферки гадать"
   ]
  },
  {
   "cell_type": "markdown",
   "metadata": {},
   "source": [
    "### Представление чисел подаваемых на вход\n",
    "![jupyter](./number_image.jpg)"
   ]
  },
  {
   "cell_type": "code",
   "execution_count": 14,
   "metadata": {},
   "outputs": [],
   "source": [
    "X = np.array([\n",
    "[1,1,1,1,0,1,1,0,1,1,0,1,1,1,1],\n",
    "[0,1,0,1,1,0,0,1,0,0,1,0,1,1,1],\n",
    "[1,1,1,0,0,1,0,1,0,1,0,0,1,1,1],\n",
    "[1,1,1,0,0,1,0,1,1,0,0,1,1,1,1],\n",
    "[1,0,1,1,0,1,1,1,1,0,0,1,0,0,1],\n",
    "[1,1,1,1,0,0,1,1,1,0,0,1,1,1,1],\n",
    "[1,1,1,1,0,0,1,1,1,1,0,1,1,1,1],\n",
    "[1,1,1,0,0,1,0,1,0,0,1,0,0,1,0],\n",
    "[1,1,1,1,0,1,1,1,1,1,0,1,1,1,1],\n",
    "[1,1,1,1,0,1,1,1,1,0,0,1,1,1,1]\n",
    "])\n",
    "X[X ==0] = -1\n",
    "Y = np.array([[0,0,0,0],[0,0,0,1],[0,0,1,0],[0,0,1,1],\n",
    "[0,1,0,0],[0,1,0,1],[0,1,1,0],[0,1,1,1],[1,0,0,0],[1,0,0,1]],dtype=int)\n",
    "Y[Y ==0] = -1\n",
    "W = np.zeros((X.shape[1],Y.shape[1]))\n",
    "hb = Hebb(W,0,1)\n"
   ]
  },
  {
   "cell_type": "markdown",
   "metadata": {},
   "source": [
    "* обучение сети"
   ]
  },
  {
   "cell_type": "code",
   "execution_count": 5,
   "metadata": {},
   "outputs": [],
   "source": [
    "learn_hist = [0]\n",
    "while True:\n",
    "    hb.delta(X,Y)\n",
    "\n",
    "    Y_pr = Y.copy()\n",
    "    Y_pr[Y_pr==-1] = 0\n",
    "    auc = accuracy_score(Y_pr,hb.feed(X,nulls=True).astype(int))\n",
    "    learn_hist.append(auc)\n",
    "    #остановка\n",
    "    if auc == 1:\n",
    "        break"
   ]
  },
  {
   "cell_type": "code",
   "execution_count": 29,
   "metadata": {},
   "outputs": [],
   "source": [
    "hb.delta(X,Y)"
   ]
  },
  {
   "cell_type": "code",
   "execution_count": 224,
   "metadata": {},
   "outputs": [
    {
     "data": {
      "text/plain": [
       "array([[1., 0., 0., 0.],\n",
       "       [0., 0., 0., 1.],\n",
       "       [0., 0., 1., 0.],\n",
       "       [0., 0., 1., 1.],\n",
       "       [1., 1., 0., 0.],\n",
       "       [1., 0., 0., 1.],\n",
       "       [1., 0., 1., 0.],\n",
       "       [0., 1., 1., 1.],\n",
       "       [1., 0., 1., 0.],\n",
       "       [1., 0., 0., 1.]])"
      ]
     },
     "execution_count": 224,
     "metadata": {},
     "output_type": "execute_result"
    }
   ],
   "source": [
    "hb.feed(X,nulls=True)"
   ]
  },
  {
   "cell_type": "markdown",
   "metadata": {},
   "source": [
    "* результат обучения"
   ]
  },
  {
   "cell_type": "code",
   "execution_count": 30,
   "metadata": {},
   "outputs": [
    {
     "data": {
      "image/png": "[encoded data removed]",
      "text/plain": [
       "<Figure size 1440x720 with 10 Axes>"
      ]
     },
     "metadata": {
      "needs_background": "light"
     },
     "output_type": "display_data"
    }
   ],
   "source": [
    "fig, axs = plt.subplots(1,10,figsize=(20,10))\n",
    "\n",
    "res = hb.feed(X,nulls=True)\n",
    "for num in range(len(res)): \n",
    "    ls = res[num].astype(int).tolist()\n",
    "    bn = ''.join(map(str,ls))\n",
    "    if int(bn,2) < len(res):\n",
    "        axs[num].imshow(X[int(bn,2)].reshape(-1,3),cmap='cividis')\n",
    "    else:\n",
    "        axs[num].imshow(np.ones(15).reshape(-1,3))\n"
   ]
  },
  {
   "cell_type": "code",
   "execution_count": 235,
   "metadata": {},
   "outputs": [
    {
     "data": {
      "image/png": "[encoded data removed]",
      "text/plain": [
       "<Figure size 720x432 with 1 Axes>"
      ]
     },
     "metadata": {
      "needs_background": "light"
     },
     "output_type": "display_data"
    }
   ],
   "source": [
    "fig, axs = plt.subplots(1,1,figsize=(10,6))\n",
    "fig.suptitle(\"Accuracy score\",fontsize=18)\n",
    "plt.plot(np.array([x for x in range(len(learn_hist))]),np.array(learn_hist))\n",
    "plt.grid()\n",
    "plt.show()"
   ]
  }
 ],
 "metadata": {
  "kernelspec": {
   "display_name": "Python 3.9.7 64-bit",
   "language": "python",
   "name": "python3"
  },
  "language_info": {
   "codemirror_mode": {
    "name": "ipython",
    "version": 3
   },
   "file_extension": ".py",
   "mimetype": "text/x-python",
   "name": "python",
   "nbconvert_exporter": "python",
   "pygments_lexer": "ipython3",
   "version": "3.9.7"
  },
  "orig_nbformat": 4,
  "vscode": {
   "interpreter": {
    "hash": "eeedea2d33308b6a28483936704865e960f19d1b64b2fbe66cf286ba9e0d4d41"
   }
  }
 },
 "nbformat": 4,
 "nbformat_minor": 2
}
